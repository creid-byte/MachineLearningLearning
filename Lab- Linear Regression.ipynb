{
 "cells": [
  {
   "cell_type": "code",
   "execution_count": 95,
   "id": "08f2e7b1",
   "metadata": {},
   "outputs": [],
   "source": [
    "%matplotlib inline\n",
    "\n",
    "import numpy as np\n",
    "import pandas as pd\n",
    "import statsmodels.api as sm\n",
    "import seaborn as sns\n",
    "import matplotlib.pyplot as plt"
   ]
  },
  {
   "cell_type": "code",
   "execution_count": 2,
   "id": "7ecd4f34",
   "metadata": {},
   "outputs": [
    {
     "data": {
      "text/html": [
       "<div>\n",
       "<style scoped>\n",
       "    .dataframe tbody tr th:only-of-type {\n",
       "        vertical-align: middle;\n",
       "    }\n",
       "\n",
       "    .dataframe tbody tr th {\n",
       "        vertical-align: top;\n",
       "    }\n",
       "\n",
       "    .dataframe thead th {\n",
       "        text-align: right;\n",
       "    }\n",
       "</style>\n",
       "<table border=\"1\" class=\"dataframe\">\n",
       "  <thead>\n",
       "    <tr style=\"text-align: right;\">\n",
       "      <th></th>\n",
       "      <th>crim</th>\n",
       "      <th>zn</th>\n",
       "      <th>indus</th>\n",
       "      <th>chas</th>\n",
       "      <th>nox</th>\n",
       "      <th>rm</th>\n",
       "      <th>age</th>\n",
       "      <th>dis</th>\n",
       "      <th>rad</th>\n",
       "      <th>tax</th>\n",
       "      <th>ptratio</th>\n",
       "      <th>black</th>\n",
       "      <th>lstat</th>\n",
       "      <th>medv</th>\n",
       "    </tr>\n",
       "  </thead>\n",
       "  <tbody>\n",
       "    <tr>\n",
       "      <th>0</th>\n",
       "      <td>0.00632</td>\n",
       "      <td>18.0</td>\n",
       "      <td>2.31</td>\n",
       "      <td>0</td>\n",
       "      <td>0.538</td>\n",
       "      <td>6.575</td>\n",
       "      <td>65.2</td>\n",
       "      <td>4.0900</td>\n",
       "      <td>1</td>\n",
       "      <td>296</td>\n",
       "      <td>15.3</td>\n",
       "      <td>396.90</td>\n",
       "      <td>4.98</td>\n",
       "      <td>24.0</td>\n",
       "    </tr>\n",
       "    <tr>\n",
       "      <th>1</th>\n",
       "      <td>0.02731</td>\n",
       "      <td>0.0</td>\n",
       "      <td>7.07</td>\n",
       "      <td>0</td>\n",
       "      <td>0.469</td>\n",
       "      <td>6.421</td>\n",
       "      <td>78.9</td>\n",
       "      <td>4.9671</td>\n",
       "      <td>2</td>\n",
       "      <td>242</td>\n",
       "      <td>17.8</td>\n",
       "      <td>396.90</td>\n",
       "      <td>9.14</td>\n",
       "      <td>21.6</td>\n",
       "    </tr>\n",
       "    <tr>\n",
       "      <th>2</th>\n",
       "      <td>0.02729</td>\n",
       "      <td>0.0</td>\n",
       "      <td>7.07</td>\n",
       "      <td>0</td>\n",
       "      <td>0.469</td>\n",
       "      <td>7.185</td>\n",
       "      <td>61.1</td>\n",
       "      <td>4.9671</td>\n",
       "      <td>2</td>\n",
       "      <td>242</td>\n",
       "      <td>17.8</td>\n",
       "      <td>392.83</td>\n",
       "      <td>4.03</td>\n",
       "      <td>34.7</td>\n",
       "    </tr>\n",
       "    <tr>\n",
       "      <th>3</th>\n",
       "      <td>0.03237</td>\n",
       "      <td>0.0</td>\n",
       "      <td>2.18</td>\n",
       "      <td>0</td>\n",
       "      <td>0.458</td>\n",
       "      <td>6.998</td>\n",
       "      <td>45.8</td>\n",
       "      <td>6.0622</td>\n",
       "      <td>3</td>\n",
       "      <td>222</td>\n",
       "      <td>18.7</td>\n",
       "      <td>394.63</td>\n",
       "      <td>2.94</td>\n",
       "      <td>33.4</td>\n",
       "    </tr>\n",
       "    <tr>\n",
       "      <th>4</th>\n",
       "      <td>0.06905</td>\n",
       "      <td>0.0</td>\n",
       "      <td>2.18</td>\n",
       "      <td>0</td>\n",
       "      <td>0.458</td>\n",
       "      <td>7.147</td>\n",
       "      <td>54.2</td>\n",
       "      <td>6.0622</td>\n",
       "      <td>3</td>\n",
       "      <td>222</td>\n",
       "      <td>18.7</td>\n",
       "      <td>396.90</td>\n",
       "      <td>5.33</td>\n",
       "      <td>36.2</td>\n",
       "    </tr>\n",
       "  </tbody>\n",
       "</table>\n",
       "</div>"
      ],
      "text/plain": [
       "      crim    zn  indus  chas    nox     rm   age     dis  rad  tax  ptratio  \\\n",
       "0  0.00632  18.0   2.31     0  0.538  6.575  65.2  4.0900    1  296     15.3   \n",
       "1  0.02731   0.0   7.07     0  0.469  6.421  78.9  4.9671    2  242     17.8   \n",
       "2  0.02729   0.0   7.07     0  0.469  7.185  61.1  4.9671    2  242     17.8   \n",
       "3  0.03237   0.0   2.18     0  0.458  6.998  45.8  6.0622    3  222     18.7   \n",
       "4  0.06905   0.0   2.18     0  0.458  7.147  54.2  6.0622    3  222     18.7   \n",
       "\n",
       "    black  lstat  medv  \n",
       "0  396.90   4.98  24.0  \n",
       "1  396.90   9.14  21.6  \n",
       "2  392.83   4.03  34.7  \n",
       "3  394.63   2.94  33.4  \n",
       "4  396.90   5.33  36.2  "
      ]
     },
     "execution_count": 2,
     "metadata": {},
     "output_type": "execute_result"
    }
   ],
   "source": [
    "# importing the data from boston.csv\n",
    "\n",
    "df = pd.read_csv('boston.csv')\n",
    "df.head()"
   ]
  },
  {
   "cell_type": "markdown",
   "id": "520881f6",
   "metadata": {},
   "source": [
    "# Simple linear regression\n",
    "We will use OLS (Ordinary Least Squares) method. **medv** will be the response and **lstate** will be the predictor"
   ]
  },
  {
   "cell_type": "code",
   "execution_count": 19,
   "id": "b011f7f0",
   "metadata": {},
   "outputs": [],
   "source": [
    "linear_model = sm.OLS.from_formula('medv ~ lstat', df)\n",
    "results = linear_model.fit()"
   ]
  },
  {
   "cell_type": "code",
   "execution_count": 20,
   "id": "3aab79a7",
   "metadata": {},
   "outputs": [
    {
     "name": "stdout",
     "output_type": "stream",
     "text": [
      "                            OLS Regression Results                            \n",
      "==============================================================================\n",
      "Dep. Variable:                   medv   R-squared:                       0.544\n",
      "Model:                            OLS   Adj. R-squared:                  0.543\n",
      "Method:                 Least Squares   F-statistic:                     601.6\n",
      "Date:                Sun, 28 Nov 2021   Prob (F-statistic):           5.08e-88\n",
      "Time:                        19:26:21   Log-Likelihood:                -1641.5\n",
      "No. Observations:                 506   AIC:                             3287.\n",
      "Df Residuals:                     504   BIC:                             3295.\n",
      "Df Model:                           1                                         \n",
      "Covariance Type:            nonrobust                                         \n",
      "==============================================================================\n",
      "                 coef    std err          t      P>|t|      [0.025      0.975]\n",
      "------------------------------------------------------------------------------\n",
      "Intercept     34.5538      0.563     61.415      0.000      33.448      35.659\n",
      "lstat         -0.9500      0.039    -24.528      0.000      -1.026      -0.874\n",
      "==============================================================================\n",
      "Omnibus:                      137.043   Durbin-Watson:                   0.892\n",
      "Prob(Omnibus):                  0.000   Jarque-Bera (JB):              291.373\n",
      "Skew:                           1.453   Prob(JB):                     5.36e-64\n",
      "Kurtosis:                       5.319   Cond. No.                         29.7\n",
      "==============================================================================\n",
      "\n",
      "Notes:\n",
      "[1] Standard Errors assume that the covariance matrix of the errors is correctly specified.\n"
     ]
    }
   ],
   "source": [
    "print(results.summary())"
   ]
  },
  {
   "cell_type": "markdown",
   "id": "9053e97e",
   "metadata": {},
   "source": [
    "Now we will make some predictions using this model. We will set up a dataframe containing the values for which we want to predict"
   ]
  },
  {
   "cell_type": "code",
   "execution_count": 21,
   "id": "17575f80",
   "metadata": {
    "scrolled": true
   },
   "outputs": [
    {
     "data": {
      "text/html": [
       "<div>\n",
       "<style scoped>\n",
       "    .dataframe tbody tr th:only-of-type {\n",
       "        vertical-align: middle;\n",
       "    }\n",
       "\n",
       "    .dataframe tbody tr th {\n",
       "        vertical-align: top;\n",
       "    }\n",
       "\n",
       "    .dataframe thead th {\n",
       "        text-align: right;\n",
       "    }\n",
       "</style>\n",
       "<table border=\"1\" class=\"dataframe\">\n",
       "  <thead>\n",
       "    <tr style=\"text-align: right;\">\n",
       "      <th></th>\n",
       "      <th>Intercept</th>\n",
       "      <th>lstat</th>\n",
       "    </tr>\n",
       "  </thead>\n",
       "  <tbody>\n",
       "    <tr>\n",
       "      <th>0</th>\n",
       "      <td>1</td>\n",
       "      <td>5</td>\n",
       "    </tr>\n",
       "    <tr>\n",
       "      <th>1</th>\n",
       "      <td>1</td>\n",
       "      <td>10</td>\n",
       "    </tr>\n",
       "    <tr>\n",
       "      <th>2</th>\n",
       "      <td>1</td>\n",
       "      <td>15</td>\n",
       "    </tr>\n",
       "  </tbody>\n",
       "</table>\n",
       "</div>"
      ],
      "text/plain": [
       "   Intercept  lstat\n",
       "0          1      5\n",
       "1          1     10\n",
       "2          1     15"
      ]
     },
     "execution_count": 21,
     "metadata": {},
     "output_type": "execute_result"
    }
   ],
   "source": [
    "# 5, 10 and 15 are the values we want to use to predict\n",
    "new = pd.DataFrame([[1, 5], [1, 10], [1, 15]], columns=['Intercept', 'lstat'])\n",
    "new"
   ]
  },
  {
   "cell_type": "code",
   "execution_count": 22,
   "id": "69d9c2dc",
   "metadata": {},
   "outputs": [
    {
     "data": {
      "text/plain": [
       "0    29.803594\n",
       "1    25.053347\n",
       "2    20.303101\n",
       "dtype: float64"
      ]
     },
     "execution_count": 22,
     "metadata": {},
     "output_type": "execute_result"
    }
   ],
   "source": [
    "results.predict(new)"
   ]
  },
  {
   "cell_type": "code",
   "execution_count": 27,
   "id": "7973f527",
   "metadata": {},
   "outputs": [],
   "source": [
    "def predict(result, new):\n",
    "    \n",
    "    # Get the predicted values\n",
    "    fit = pd.DataFrame(result.predict(new), columns=['fit'])\n",
    "    \n",
    "    # Get the confidence interval for the model (and rename the columns to something a bit more useful)\n",
    "    ci = result.conf_int().rename(columns={0: 'lower', 1: 'upper'})\n",
    "    \n",
    "    # Now a little bit of matrix multiplication to get the confidence intervals for the predictions\n",
    "    ci = ci.T.dot(new.T).T\n",
    "    \n",
    "    # And finally wrap up the confidence intervals with the predicted values\n",
    "    return pd.concat([fit, ci], axis=1)"
   ]
  },
  {
   "cell_type": "code",
   "execution_count": 28,
   "id": "d3c4712e",
   "metadata": {},
   "outputs": [
    {
     "data": {
      "text/html": [
       "<div>\n",
       "<style scoped>\n",
       "    .dataframe tbody tr th:only-of-type {\n",
       "        vertical-align: middle;\n",
       "    }\n",
       "\n",
       "    .dataframe tbody tr th {\n",
       "        vertical-align: top;\n",
       "    }\n",
       "\n",
       "    .dataframe thead th {\n",
       "        text-align: right;\n",
       "    }\n",
       "</style>\n",
       "<table border=\"1\" class=\"dataframe\">\n",
       "  <thead>\n",
       "    <tr style=\"text-align: right;\">\n",
       "      <th></th>\n",
       "      <th>fit</th>\n",
       "      <th>lower</th>\n",
       "      <th>upper</th>\n",
       "    </tr>\n",
       "  </thead>\n",
       "  <tbody>\n",
       "    <tr>\n",
       "      <th>0</th>\n",
       "      <td>29.803594</td>\n",
       "      <td>28.317716</td>\n",
       "      <td>31.289472</td>\n",
       "    </tr>\n",
       "    <tr>\n",
       "      <th>1</th>\n",
       "      <td>25.053347</td>\n",
       "      <td>23.186975</td>\n",
       "      <td>26.919720</td>\n",
       "    </tr>\n",
       "    <tr>\n",
       "      <th>2</th>\n",
       "      <td>20.303101</td>\n",
       "      <td>18.056234</td>\n",
       "      <td>22.549967</td>\n",
       "    </tr>\n",
       "  </tbody>\n",
       "</table>\n",
       "</div>"
      ],
      "text/plain": [
       "         fit      lower      upper\n",
       "0  29.803594  28.317716  31.289472\n",
       "1  25.053347  23.186975  26.919720\n",
       "2  20.303101  18.056234  22.549967"
      ]
     },
     "execution_count": 28,
     "metadata": {},
     "output_type": "execute_result"
    }
   ],
   "source": [
    "predict(results, new)"
   ]
  },
  {
   "cell_type": "markdown",
   "id": "a5f05c2d",
   "metadata": {},
   "source": [
    "<h2>Plotting medv and lstat along with OLS using regplot from seaborn</h2>"
   ]
  },
  {
   "cell_type": "code",
   "execution_count": 41,
   "id": "3b68447a",
   "metadata": {},
   "outputs": [
    {
     "data": {
      "text/plain": [
       "(0.0, 65.0)"
      ]
     },
     "execution_count": 41,
     "metadata": {},
     "output_type": "execute_result"
    },
    {
     "data": {
      "image/png": "[encoded data removed]",
      "text/plain": [
       "<Figure size 432x288 with 1 Axes>"
      ]
     },
     "metadata": {
      "needs_background": "light"
     },
     "output_type": "display_data"
    }
   ],
   "source": [
    "ax = sns.regplot(x='lstat',y='medv', data=df, line_kws={'color':'r'}, ci=None)\n",
    "ax.set_xlim(0,42)\n",
    "ax.set_ylim(0,65)"
   ]
  },
  {
   "cell_type": "markdown",
   "id": "86ac4525",
   "metadata": {},
   "source": [
    "<h3>Plotting residuals against fitted values</h3>"
   ]
  },
  {
   "cell_type": "code",
   "execution_count": 55,
   "id": "decf8a99",
   "metadata": {},
   "outputs": [
    {
     "data": {
      "text/plain": [
       "0      29.822595\n",
       "1      25.870390\n",
       "2      30.725142\n",
       "3      31.760696\n",
       "4      29.490078\n",
       "         ...    \n",
       "501    25.366864\n",
       "502    25.927393\n",
       "503    29.195563\n",
       "504    28.397521\n",
       "505    27.067452\n",
       "Name: Fitted Values, Length: 506, dtype: float64"
      ]
     },
     "execution_count": 55,
     "metadata": {},
     "output_type": "execute_result"
    }
   ],
   "source": [
    "#Creating a series of fitted values\n",
    "fitted_values = pd.Series(results.fittedvalues, name=\"Fitted Values\")\n",
    "fitted_values"
   ]
  },
  {
   "cell_type": "code",
   "execution_count": 54,
   "id": "4a4201b3",
   "metadata": {},
   "outputs": [
    {
     "data": {
      "text/plain": [
       "0      -5.822595\n",
       "1      -4.270390\n",
       "2       3.974858\n",
       "3       1.639304\n",
       "4       6.709922\n",
       "         ...    \n",
       "501    -2.966864\n",
       "502    -5.327393\n",
       "503    -5.295563\n",
       "504    -6.397521\n",
       "505   -15.167452\n",
       "Name: Residuals, Length: 506, dtype: float64"
      ]
     },
     "execution_count": 54,
     "metadata": {},
     "output_type": "execute_result"
    }
   ],
   "source": [
    "# creating a Series of residual values\n",
    "residuals = pd.Series(results.resid, name='Residuals')\n",
    "residuals"
   ]
  },
  {
   "cell_type": "code",
   "execution_count": 59,
   "id": "24e60a87",
   "metadata": {},
   "outputs": [
    {
     "data": {
      "text/plain": [
       "<AxesSubplot:xlabel='Fitted Values', ylabel='Residuals'>"
      ]
     },
     "execution_count": 59,
     "metadata": {},
     "output_type": "execute_result"
    },
    {
     "data": {
      "image/png": "[encoded data removed]",
      "text/plain": [
       "<Figure size 432x288 with 1 Axes>"
      ]
     },
     "metadata": {
      "needs_background": "light"
     },
     "output_type": "display_data"
    }
   ],
   "source": [
    "# ploting fitted values vs the residuals\n",
    "sns.regplot(x=fitted_values, y=residuals, fit_reg=False)"
   ]
  },
  {
   "cell_type": "markdown",
   "id": "eb02b8d6",
   "metadata": {},
   "source": [
    "On the basis of the residual plot, there is some evidence of non-linearity. Let us use multiple linear regression to fit this model.\n",
    "\n",
    "# Multiple linear regression"
   ]
  },
  {
   "cell_type": "code",
   "execution_count": 62,
   "id": "a0c8bba0",
   "metadata": {},
   "outputs": [
    {
     "name": "stdout",
     "output_type": "stream",
     "text": [
      "                            OLS Regression Results                            \n",
      "==============================================================================\n",
      "Dep. Variable:                   medv   R-squared:                       0.551\n",
      "Model:                            OLS   Adj. R-squared:                  0.549\n",
      "Method:                 Least Squares   F-statistic:                     309.0\n",
      "Date:                Sun, 28 Nov 2021   Prob (F-statistic):           2.98e-88\n",
      "Time:                        19:59:17   Log-Likelihood:                -1637.5\n",
      "No. Observations:                 506   AIC:                             3281.\n",
      "Df Residuals:                     503   BIC:                             3294.\n",
      "Df Model:                           2                                         \n",
      "Covariance Type:            nonrobust                                         \n",
      "==============================================================================\n",
      "                 coef    std err          t      P>|t|      [0.025      0.975]\n",
      "------------------------------------------------------------------------------\n",
      "Intercept     33.2228      0.731     45.458      0.000      31.787      34.659\n",
      "lstat         -1.0321      0.048    -21.416      0.000      -1.127      -0.937\n",
      "age            0.0345      0.012      2.826      0.005       0.011       0.059\n",
      "==============================================================================\n",
      "Omnibus:                      124.288   Durbin-Watson:                   0.945\n",
      "Prob(Omnibus):                  0.000   Jarque-Bera (JB):              244.026\n",
      "Skew:                           1.362   Prob(JB):                     1.02e-53\n",
      "Kurtosis:                       5.038   Cond. No.                         201.\n",
      "==============================================================================\n",
      "\n",
      "Notes:\n",
      "[1] Standard Errors assume that the covariance matrix of the errors is correctly specified.\n"
     ]
    }
   ],
   "source": [
    "# Do 2 regressors\n",
    "multi_lm = sm.OLS.from_formula('medv ~ lstat + age', df)\n",
    "multi_lm_result = multi_lm.fit()\n",
    "print(multi_lm_result.summary())\n"
   ]
  },
  {
   "cell_type": "code",
   "execution_count": 65,
   "id": "e31d3dbf",
   "metadata": {},
   "outputs": [
    {
     "name": "stdout",
     "output_type": "stream",
     "text": [
      "                            OLS Regression Results                            \n",
      "==============================================================================\n",
      "Dep. Variable:                   medv   R-squared:                       0.741\n",
      "Model:                            OLS   Adj. R-squared:                  0.734\n",
      "Method:                 Least Squares   F-statistic:                     108.1\n",
      "Date:                Sun, 28 Nov 2021   Prob (F-statistic):          6.72e-135\n",
      "Time:                        20:09:35   Log-Likelihood:                -1498.8\n",
      "No. Observations:                 506   AIC:                             3026.\n",
      "Df Residuals:                     492   BIC:                             3085.\n",
      "Df Model:                          13                                         \n",
      "Covariance Type:            nonrobust                                         \n",
      "==============================================================================\n",
      "                 coef    std err          t      P>|t|      [0.025      0.975]\n",
      "------------------------------------------------------------------------------\n",
      "Intercept     36.4595      5.103      7.144      0.000      26.432      46.487\n",
      "age            0.0007      0.013      0.052      0.958      -0.025       0.027\n",
      "black          0.0093      0.003      3.467      0.001       0.004       0.015\n",
      "chas           2.6867      0.862      3.118      0.002       0.994       4.380\n",
      "crim          -0.1080      0.033     -3.287      0.001      -0.173      -0.043\n",
      "dis           -1.4756      0.199     -7.398      0.000      -1.867      -1.084\n",
      "indus          0.0206      0.061      0.334      0.738      -0.100       0.141\n",
      "lstat         -0.5248      0.051    -10.347      0.000      -0.624      -0.425\n",
      "nox          -17.7666      3.820     -4.651      0.000     -25.272     -10.262\n",
      "ptratio       -0.9527      0.131     -7.283      0.000      -1.210      -0.696\n",
      "rad            0.3060      0.066      4.613      0.000       0.176       0.436\n",
      "rm             3.8099      0.418      9.116      0.000       2.989       4.631\n",
      "tax           -0.0123      0.004     -3.280      0.001      -0.020      -0.005\n",
      "zn             0.0464      0.014      3.382      0.001       0.019       0.073\n",
      "==============================================================================\n",
      "Omnibus:                      178.041   Durbin-Watson:                   1.078\n",
      "Prob(Omnibus):                  0.000   Jarque-Bera (JB):              783.126\n",
      "Skew:                           1.521   Prob(JB):                    8.84e-171\n",
      "Kurtosis:                       8.281   Cond. No.                     1.51e+04\n",
      "==============================================================================\n",
      "\n",
      "Notes:\n",
      "[1] Standard Errors assume that the covariance matrix of the errors is correctly specified.\n",
      "[2] The condition number is large, 1.51e+04. This might indicate that there are\n",
      "strong multicollinearity or other numerical problems.\n"
     ]
    }
   ],
   "source": [
    "# Do all predictors\n",
    "multi_lm = sm.OLS.from_formula('medv ~ ' + '+'.join(df.columns.difference(['medv'])), df)\n",
    "multi_lm_results = multi_lm.fit()\n",
    "print(multi_lm_results.summary())"
   ]
  },
  {
   "cell_type": "markdown",
   "id": "f6c28785",
   "metadata": {},
   "source": [
    "**Age** and **indus** have high p-values, so we should remove them from the model"
   ]
  },
  {
   "cell_type": "code",
   "execution_count": 66,
   "id": "3b33c194",
   "metadata": {},
   "outputs": [
    {
     "name": "stdout",
     "output_type": "stream",
     "text": [
      "                            OLS Regression Results                            \n",
      "==============================================================================\n",
      "Dep. Variable:                   medv   R-squared:                       0.741\n",
      "Model:                            OLS   Adj. R-squared:                  0.735\n",
      "Method:                 Least Squares   F-statistic:                     128.2\n",
      "Date:                Sun, 28 Nov 2021   Prob (F-statistic):          5.54e-137\n",
      "Time:                        20:11:54   Log-Likelihood:                -1498.9\n",
      "No. Observations:                 506   AIC:                             3022.\n",
      "Df Residuals:                     494   BIC:                             3072.\n",
      "Df Model:                          11                                         \n",
      "Covariance Type:            nonrobust                                         \n",
      "==============================================================================\n",
      "                 coef    std err          t      P>|t|      [0.025      0.975]\n",
      "------------------------------------------------------------------------------\n",
      "Intercept     36.3411      5.067      7.171      0.000      26.385      46.298\n",
      "black          0.0093      0.003      3.475      0.001       0.004       0.015\n",
      "chas           2.7187      0.854      3.183      0.002       1.040       4.397\n",
      "crim          -0.1084      0.033     -3.307      0.001      -0.173      -0.044\n",
      "dis           -1.4927      0.186     -8.037      0.000      -1.858      -1.128\n",
      "lstat         -0.5226      0.047    -11.019      0.000      -0.616      -0.429\n",
      "nox          -17.3760      3.535     -4.915      0.000     -24.322     -10.430\n",
      "ptratio       -0.9465      0.129     -7.334      0.000      -1.200      -0.693\n",
      "rad            0.2996      0.063      4.726      0.000       0.175       0.424\n",
      "rm             3.8016      0.406      9.356      0.000       3.003       4.600\n",
      "tax           -0.0118      0.003     -3.493      0.001      -0.018      -0.005\n",
      "zn             0.0458      0.014      3.390      0.001       0.019       0.072\n",
      "==============================================================================\n",
      "Omnibus:                      178.430   Durbin-Watson:                   1.078\n",
      "Prob(Omnibus):                  0.000   Jarque-Bera (JB):              787.785\n",
      "Skew:                           1.523   Prob(JB):                    8.60e-172\n",
      "Kurtosis:                       8.300   Cond. No.                     1.47e+04\n",
      "==============================================================================\n",
      "\n",
      "Notes:\n",
      "[1] Standard Errors assume that the covariance matrix of the errors is correctly specified.\n",
      "[2] The condition number is large, 1.47e+04. This might indicate that there are\n",
      "strong multicollinearity or other numerical problems.\n"
     ]
    }
   ],
   "source": [
    "# Do all predictors\n",
    "multi_lm = sm.OLS.from_formula('medv ~ ' + '+'.join(df.columns.difference(['medv','age','indus'])), df)\n",
    "multi_lm_results = multi_lm.fit()\n",
    "print(multi_lm_results.summary())"
   ]
  },
  {
   "cell_type": "code",
   "execution_count": 69,
   "id": "706bf09a",
   "metadata": {},
   "outputs": [
    {
     "data": {
      "text/plain": [
       "84.58672359409856"
      ]
     },
     "execution_count": 69,
     "metadata": {},
     "output_type": "execute_result"
    }
   ],
   "source": [
    "multi_lm_results.mse_total"
   ]
  },
  {
   "cell_type": "markdown",
   "id": "efa65155",
   "metadata": {},
   "source": [
    "# Non-linear Transformations of the Predictors\n",
    "We can accomodate non-linear transformations of the predictors"
   ]
  },
  {
   "cell_type": "code",
   "execution_count": 74,
   "id": "7c24bb09",
   "metadata": {},
   "outputs": [
    {
     "name": "stdout",
     "output_type": "stream",
     "text": [
      "                            OLS Regression Results                            \n",
      "==============================================================================\n",
      "Dep. Variable:                   medv   R-squared:                       0.641\n",
      "Model:                            OLS   Adj. R-squared:                  0.639\n",
      "Method:                 Least Squares   F-statistic:                     448.5\n",
      "Date:                Sun, 28 Nov 2021   Prob (F-statistic):          1.56e-112\n",
      "Time:                        21:55:02   Log-Likelihood:                -1581.3\n",
      "No. Observations:                 506   AIC:                             3169.\n",
      "Df Residuals:                     503   BIC:                             3181.\n",
      "Df Model:                           2                                         \n",
      "Covariance Type:            nonrobust                                         \n",
      "====================================================================================\n",
      "                       coef    std err          t      P>|t|      [0.025      0.975]\n",
      "------------------------------------------------------------------------------------\n",
      "Intercept           42.8620      0.872     49.149      0.000      41.149      44.575\n",
      "lstat               -2.3328      0.124    -18.843      0.000      -2.576      -2.090\n",
      "np.square(lstat)     0.0435      0.004     11.628      0.000       0.036       0.051\n",
      "==============================================================================\n",
      "Omnibus:                      107.006   Durbin-Watson:                   0.921\n",
      "Prob(Omnibus):                  0.000   Jarque-Bera (JB):              228.388\n",
      "Skew:                           1.128   Prob(JB):                     2.55e-50\n",
      "Kurtosis:                       5.397   Cond. No.                     1.13e+03\n",
      "==============================================================================\n",
      "\n",
      "Notes:\n",
      "[1] Standard Errors assume that the covariance matrix of the errors is correctly specified.\n",
      "[2] The condition number is large, 1.13e+03. This might indicate that there are\n",
      "strong multicollinearity or other numerical problems.\n"
     ]
    }
   ],
   "source": [
    "lm_fit2 = sm.OLS.from_formula('medv ~ lstat + np.square(lstat)', df).fit()\n",
    "print(lm_fit2.summary())"
   ]
  },
  {
   "cell_type": "markdown",
   "id": "17cffa8e",
   "metadata": {},
   "source": [
    "**Results**- near zero p-value associated with the quadratic term suggests that it leads to an improved model!\n",
    "\n",
    "Will now use the ANOVA function to quantify to which the quadratic fit is superior to the linear fit\n",
    "\n",
    "**ANOVA** is analysis of variance. Will use ANOVA to determine the influence that independent variables have on the dependent variable in for the 2 different models"
   ]
  },
  {
   "cell_type": "code",
   "execution_count": 76,
   "id": "e815874d",
   "metadata": {},
   "outputs": [
    {
     "name": "stdout",
     "output_type": "stream",
     "text": [
      "   df_resid           ssr  df_diff     ss_diff           F        Pr(>F)\n",
      "0     504.0  19472.381418      0.0         NaN         NaN           NaN\n",
      "1     503.0  15347.243158      1.0  4125.13826  135.199822  7.630116e-28\n"
     ]
    }
   ],
   "source": [
    "# creating a linear model\n",
    "lm_fit = sm.OLS.from_formula('medv ~ lstat', df).fit()\n",
    "\n",
    "#printing the result of the ANOVA test\n",
    "print(sm.stats.anova_lm(lm_fit,lm_fit2))"
   ]
  },
  {
   "cell_type": "markdown",
   "id": "fc028def",
   "metadata": {},
   "source": [
    "The ANOVA function has peformed a hypothesis test comparing the two models.\n",
    "\n",
    "Null is that the 2 models fit the data equally well. Alternative is that the full model is superior. The F-stat is large with a small p-value, which suggest that the 2nd quadratic model is more superior.\n",
    "\n",
    "Since predictored squared did better, let us see how predictor cubed etc will peform\n",
    "# Fifth order polynomial fit"
   ]
  },
  {
   "cell_type": "code",
   "execution_count": 98,
   "id": "40abd00e",
   "metadata": {},
   "outputs": [
    {
     "name": "stdout",
     "output_type": "stream",
     "text": [
      "ERROR! Session/line number was not unique in database. History logging moved to new session 31\n",
      "                            OLS Regression Results                            \n",
      "==============================================================================\n",
      "Dep. Variable:                   medv   R-squared:                       0.682\n",
      "Model:                            OLS   Adj. R-squared:                  0.679\n",
      "Method:                 Least Squares   F-statistic:                     214.2\n",
      "Date:                Sun, 28 Nov 2021   Prob (F-statistic):          8.73e-122\n",
      "Time:                        23:00:59   Log-Likelihood:                -1550.6\n",
      "No. Observations:                 506   AIC:                             3113.\n",
      "Df Residuals:                     500   BIC:                             3139.\n",
      "Df Model:                           5                                         \n",
      "Covariance Type:            nonrobust                                         \n",
      "======================================================================================\n",
      "                         coef    std err          t      P>|t|      [0.025      0.975]\n",
      "--------------------------------------------------------------------------------------\n",
      "Intercept             67.6997      3.604     18.783      0.000      60.618      74.781\n",
      "np.power(lstat, 1)   -11.9911      1.526     -7.859      0.000     -14.989      -8.994\n",
      "np.power(lstat, 2)     1.2728      0.223      5.703      0.000       0.834       1.711\n",
      "np.power(lstat, 3)    -0.0683      0.014     -4.747      0.000      -0.097      -0.040\n",
      "np.power(lstat, 4)     0.0017      0.000      4.143      0.000       0.001       0.003\n",
      "np.power(lstat, 5) -1.632e-05   4.42e-06     -3.692      0.000    -2.5e-05   -7.63e-06\n",
      "==============================================================================\n",
      "Omnibus:                      144.085   Durbin-Watson:                   0.987\n",
      "Prob(Omnibus):                  0.000   Jarque-Bera (JB):              494.545\n",
      "Skew:                           1.292   Prob(JB):                    4.08e-108\n",
      "Kurtosis:                       7.096   Cond. No.                     1.37e+08\n",
      "==============================================================================\n",
      "\n",
      "Notes:\n",
      "[1] Standard Errors assume that the covariance matrix of the errors is correctly specified.\n",
      "[2] The condition number is large, 1.37e+08. This might indicate that there are\n",
      "strong multicollinearity or other numerical problems.\n"
     ]
    }
   ],
   "source": [
    "print(sm.OLS.from_formula('medv ~ ' + '+'.join(['np.power(lstat,' + str(i) + ')' for i in range(1,6)]),df).fit().summary())\n"
   ]
  },
  {
   "cell_type": "markdown",
   "id": "4184f412",
   "metadata": {},
   "source": [
    "# Log transformation"
   ]
  },
  {
   "cell_type": "code",
   "execution_count": 101,
   "id": "261f670e",
   "metadata": {},
   "outputs": [
    {
     "name": "stdout",
     "output_type": "stream",
     "text": [
      "                            OLS Regression Results                            \n",
      "==============================================================================\n",
      "Dep. Variable:                   medv   R-squared:                       0.436\n",
      "Model:                            OLS   Adj. R-squared:                  0.435\n",
      "Method:                 Least Squares   F-statistic:                     389.3\n",
      "Date:                Sun, 28 Nov 2021   Prob (F-statistic):           1.22e-64\n",
      "Time:                        23:02:46   Log-Likelihood:                -1695.4\n",
      "No. Observations:                 506   AIC:                             3395.\n",
      "Df Residuals:                     504   BIC:                             3403.\n",
      "Df Model:                           1                                         \n",
      "Covariance Type:            nonrobust                                         \n",
      "==============================================================================\n",
      "                 coef    std err          t      P>|t|      [0.025      0.975]\n",
      "------------------------------------------------------------------------------\n",
      "Intercept    -76.4878      5.028    -15.213      0.000     -86.366     -66.610\n",
      "np.log(rm)    54.0546      2.739     19.732      0.000      48.672      59.437\n",
      "==============================================================================\n",
      "Omnibus:                      117.102   Durbin-Watson:                   0.681\n",
      "Prob(Omnibus):                  0.000   Jarque-Bera (JB):              584.336\n",
      "Skew:                           0.916   Prob(JB):                    1.30e-127\n",
      "Kurtosis:                       7.936   Cond. No.                         38.9\n",
      "==============================================================================\n",
      "\n",
      "Notes:\n",
      "[1] Standard Errors assume that the covariance matrix of the errors is correctly specified.\n"
     ]
    }
   ],
   "source": [
    "print(sm.OLS.from_formula('medv ~ np.log(rm)', df).fit().summary())"
   ]
  },
  {
   "cell_type": "code",
   "execution_count": null,
   "id": "26ee232d",
   "metadata": {},
   "outputs": [],
   "source": []
  }
 ],
 "metadata": {
  "kernelspec": {
   "display_name": "Python 3",
   "language": "python",
   "name": "python3"
  },
  "language_info": {
   "codemirror_mode": {
    "name": "ipython",
    "version": 3
   },
   "file_extension": ".py",
   "mimetype": "text/x-python",
   "name": "python",
   "nbconvert_exporter": "python",
   "pygments_lexer": "ipython3",
   "version": "3.8.8"
  }
 },
 "nbformat": 4,
 "nbformat_minor": 5
}
